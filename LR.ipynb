{
  "nbformat": 4,
  "nbformat_minor": 0,
  "metadata": {
    "colab": {
      "name": "Untitled3.ipynb",
      "provenance": []
    },
    "kernelspec": {
      "name": "python3",
      "display_name": "Python 3"
    },
    "language_info": {
      "name": "python"
    }
  },
  "cells": [
    {
      "cell_type": "code",
      "execution_count": 54,
      "metadata": {
        "id": "wmVEKszlyd7y"
      },
      "outputs": [],
      "source": [
        "import pandas as pd\n",
        "import seaborn as sns\n",
        "from matplotlib import pyplot as plt\n",
        "import numpy as np\n",
        "import math\n",
        "import operator\n",
        "from sklearn.decomposition import PCA"
      ]
    },
    {
      "cell_type": "code",
      "source": [
        "header1 = ['Time in seconds', 'frontal axis', 'vertical axis', 'lateral axis', 'Id sensor', 'RSSI', 'Phase', 'Frequency', 'activity']\n",
        "df = pd.read_csv('data.csv', sep=',', header=None)\n",
        "df.columns = header1\n",
        "df.head()"
      ],
      "metadata": {
        "colab": {
          "base_uri": "https://localhost:8080/",
          "height": 206
        },
        "id": "E3owUg1PzwL4",
        "outputId": "c9907ee9-94df-45ba-9530-486fe75da573"
      },
      "execution_count": 55,
      "outputs": [
        {
          "output_type": "execute_result",
          "data": {
            "text/plain": [
              "   Time in seconds  frontal axis  vertical axis  lateral axis  Id sensor  \\\n",
              "0             0.00       0.57689        0.88191     -0.082102          2   \n",
              "1             2.00       0.45964        0.81301     -0.150520          2   \n",
              "2             3.25       0.45964        0.81301     -0.150520          2   \n",
              "3             4.00       0.57689        0.82449     -0.127710          3   \n",
              "4             5.00       0.42446        0.88191     -0.104910          2   \n",
              "\n",
              "   RSSI    Phase  Frequency  activity  \n",
              "0 -62.0  0.62740     922.75         4  \n",
              "1 -60.0  0.87284     925.75         4  \n",
              "2 -67.5  0.37429     925.25         4  \n",
              "3 -63.0  5.85670     921.75         1  \n",
              "4 -59.5  5.20020     923.75         1  "
            ],
            "text/html": [
              "\n",
              "  <div id=\"df-d306ba3e-45b7-4ad6-8cae-b503ebb339e4\">\n",
              "    <div class=\"colab-df-container\">\n",
              "      <div>\n",
              "<style scoped>\n",
              "    .dataframe tbody tr th:only-of-type {\n",
              "        vertical-align: middle;\n",
              "    }\n",
              "\n",
              "    .dataframe tbody tr th {\n",
              "        vertical-align: top;\n",
              "    }\n",
              "\n",
              "    .dataframe thead th {\n",
              "        text-align: right;\n",
              "    }\n",
              "</style>\n",
              "<table border=\"1\" class=\"dataframe\">\n",
              "  <thead>\n",
              "    <tr style=\"text-align: right;\">\n",
              "      <th></th>\n",
              "      <th>Time in seconds</th>\n",
              "      <th>frontal axis</th>\n",
              "      <th>vertical axis</th>\n",
              "      <th>lateral axis</th>\n",
              "      <th>Id sensor</th>\n",
              "      <th>RSSI</th>\n",
              "      <th>Phase</th>\n",
              "      <th>Frequency</th>\n",
              "      <th>activity</th>\n",
              "    </tr>\n",
              "  </thead>\n",
              "  <tbody>\n",
              "    <tr>\n",
              "      <th>0</th>\n",
              "      <td>0.00</td>\n",
              "      <td>0.57689</td>\n",
              "      <td>0.88191</td>\n",
              "      <td>-0.082102</td>\n",
              "      <td>2</td>\n",
              "      <td>-62.0</td>\n",
              "      <td>0.62740</td>\n",
              "      <td>922.75</td>\n",
              "      <td>4</td>\n",
              "    </tr>\n",
              "    <tr>\n",
              "      <th>1</th>\n",
              "      <td>2.00</td>\n",
              "      <td>0.45964</td>\n",
              "      <td>0.81301</td>\n",
              "      <td>-0.150520</td>\n",
              "      <td>2</td>\n",
              "      <td>-60.0</td>\n",
              "      <td>0.87284</td>\n",
              "      <td>925.75</td>\n",
              "      <td>4</td>\n",
              "    </tr>\n",
              "    <tr>\n",
              "      <th>2</th>\n",
              "      <td>3.25</td>\n",
              "      <td>0.45964</td>\n",
              "      <td>0.81301</td>\n",
              "      <td>-0.150520</td>\n",
              "      <td>2</td>\n",
              "      <td>-67.5</td>\n",
              "      <td>0.37429</td>\n",
              "      <td>925.25</td>\n",
              "      <td>4</td>\n",
              "    </tr>\n",
              "    <tr>\n",
              "      <th>3</th>\n",
              "      <td>4.00</td>\n",
              "      <td>0.57689</td>\n",
              "      <td>0.82449</td>\n",
              "      <td>-0.127710</td>\n",
              "      <td>3</td>\n",
              "      <td>-63.0</td>\n",
              "      <td>5.85670</td>\n",
              "      <td>921.75</td>\n",
              "      <td>1</td>\n",
              "    </tr>\n",
              "    <tr>\n",
              "      <th>4</th>\n",
              "      <td>5.00</td>\n",
              "      <td>0.42446</td>\n",
              "      <td>0.88191</td>\n",
              "      <td>-0.104910</td>\n",
              "      <td>2</td>\n",
              "      <td>-59.5</td>\n",
              "      <td>5.20020</td>\n",
              "      <td>923.75</td>\n",
              "      <td>1</td>\n",
              "    </tr>\n",
              "  </tbody>\n",
              "</table>\n",
              "</div>\n",
              "      <button class=\"colab-df-convert\" onclick=\"convertToInteractive('df-d306ba3e-45b7-4ad6-8cae-b503ebb339e4')\"\n",
              "              title=\"Convert this dataframe to an interactive table.\"\n",
              "              style=\"display:none;\">\n",
              "        \n",
              "  <svg xmlns=\"http://www.w3.org/2000/svg\" height=\"24px\"viewBox=\"0 0 24 24\"\n",
              "       width=\"24px\">\n",
              "    <path d=\"M0 0h24v24H0V0z\" fill=\"none\"/>\n",
              "    <path d=\"M18.56 5.44l.94 2.06.94-2.06 2.06-.94-2.06-.94-.94-2.06-.94 2.06-2.06.94zm-11 1L8.5 8.5l.94-2.06 2.06-.94-2.06-.94L8.5 2.5l-.94 2.06-2.06.94zm10 10l.94 2.06.94-2.06 2.06-.94-2.06-.94-.94-2.06-.94 2.06-2.06.94z\"/><path d=\"M17.41 7.96l-1.37-1.37c-.4-.4-.92-.59-1.43-.59-.52 0-1.04.2-1.43.59L10.3 9.45l-7.72 7.72c-.78.78-.78 2.05 0 2.83L4 21.41c.39.39.9.59 1.41.59.51 0 1.02-.2 1.41-.59l7.78-7.78 2.81-2.81c.8-.78.8-2.07 0-2.86zM5.41 20L4 18.59l7.72-7.72 1.47 1.35L5.41 20z\"/>\n",
              "  </svg>\n",
              "      </button>\n",
              "      \n",
              "  <style>\n",
              "    .colab-df-container {\n",
              "      display:flex;\n",
              "      flex-wrap:wrap;\n",
              "      gap: 12px;\n",
              "    }\n",
              "\n",
              "    .colab-df-convert {\n",
              "      background-color: #E8F0FE;\n",
              "      border: none;\n",
              "      border-radius: 50%;\n",
              "      cursor: pointer;\n",
              "      display: none;\n",
              "      fill: #1967D2;\n",
              "      height: 32px;\n",
              "      padding: 0 0 0 0;\n",
              "      width: 32px;\n",
              "    }\n",
              "\n",
              "    .colab-df-convert:hover {\n",
              "      background-color: #E2EBFA;\n",
              "      box-shadow: 0px 1px 2px rgba(60, 64, 67, 0.3), 0px 1px 3px 1px rgba(60, 64, 67, 0.15);\n",
              "      fill: #174EA6;\n",
              "    }\n",
              "\n",
              "    [theme=dark] .colab-df-convert {\n",
              "      background-color: #3B4455;\n",
              "      fill: #D2E3FC;\n",
              "    }\n",
              "\n",
              "    [theme=dark] .colab-df-convert:hover {\n",
              "      background-color: #434B5C;\n",
              "      box-shadow: 0px 1px 3px 1px rgba(0, 0, 0, 0.15);\n",
              "      filter: drop-shadow(0px 1px 2px rgba(0, 0, 0, 0.3));\n",
              "      fill: #FFFFFF;\n",
              "    }\n",
              "  </style>\n",
              "\n",
              "      <script>\n",
              "        const buttonEl =\n",
              "          document.querySelector('#df-d306ba3e-45b7-4ad6-8cae-b503ebb339e4 button.colab-df-convert');\n",
              "        buttonEl.style.display =\n",
              "          google.colab.kernel.accessAllowed ? 'block' : 'none';\n",
              "\n",
              "        async function convertToInteractive(key) {\n",
              "          const element = document.querySelector('#df-d306ba3e-45b7-4ad6-8cae-b503ebb339e4');\n",
              "          const dataTable =\n",
              "            await google.colab.kernel.invokeFunction('convertToInteractive',\n",
              "                                                     [key], {});\n",
              "          if (!dataTable) return;\n",
              "\n",
              "          const docLinkHtml = 'Like what you see? Visit the ' +\n",
              "            '<a target=\"_blank\" href=https://colab.research.google.com/notebooks/data_table.ipynb>data table notebook</a>'\n",
              "            + ' to learn more about interactive tables.';\n",
              "          element.innerHTML = '';\n",
              "          dataTable['output_type'] = 'display_data';\n",
              "          await google.colab.output.renderOutput(dataTable, element);\n",
              "          const docLink = document.createElement('div');\n",
              "          docLink.innerHTML = docLinkHtml;\n",
              "          element.appendChild(docLink);\n",
              "        }\n",
              "      </script>\n",
              "    </div>\n",
              "  </div>\n",
              "  "
            ]
          },
          "metadata": {},
          "execution_count": 55
        }
      ]
    },
    {
      "cell_type": "code",
      "source": [
        "df['activity'].unique()"
      ],
      "metadata": {
        "colab": {
          "base_uri": "https://localhost:8080/",
          "height": 0
        },
        "id": "P0iTnLamz-s7",
        "outputId": "83dac9d6-89b0-4a79-9cda-a8b005c3c7bf"
      },
      "execution_count": 56,
      "outputs": [
        {
          "output_type": "execute_result",
          "data": {
            "text/plain": [
              "array([4, 1, 3, 2])"
            ]
          },
          "metadata": {},
          "execution_count": 56
        }
      ]
    },
    {
      "cell_type": "code",
      "source": [
        "df.info()"
      ],
      "metadata": {
        "colab": {
          "base_uri": "https://localhost:8080/",
          "height": 0
        },
        "id": "J0LDKFYX0Ahv",
        "outputId": "639bb857-871d-4ac3-e7f2-2a42e9914f45"
      },
      "execution_count": 57,
      "outputs": [
        {
          "output_type": "stream",
          "name": "stdout",
          "text": [
            "<class 'pandas.core.frame.DataFrame'>\n",
            "RangeIndex: 2529 entries, 0 to 2528\n",
            "Data columns (total 9 columns):\n",
            " #   Column           Non-Null Count  Dtype  \n",
            "---  ------           --------------  -----  \n",
            " 0   Time in seconds  2529 non-null   float64\n",
            " 1   frontal axis     2529 non-null   float64\n",
            " 2   vertical axis    2529 non-null   float64\n",
            " 3   lateral axis     2529 non-null   float64\n",
            " 4   Id sensor        2529 non-null   int64  \n",
            " 5   RSSI             2529 non-null   float64\n",
            " 6   Phase            2529 non-null   float64\n",
            " 7   Frequency        2529 non-null   float64\n",
            " 8   activity         2529 non-null   int64  \n",
            "dtypes: float64(7), int64(2)\n",
            "memory usage: 177.9 KB\n"
          ]
        }
      ]
    },
    {
      "cell_type": "code",
      "source": [
        "df.isnull().sum().sort_values().tail(15)\n",
        "#Обнаружение пропущенных значений"
      ],
      "metadata": {
        "colab": {
          "base_uri": "https://localhost:8080/",
          "height": 0
        },
        "id": "2oSGQMyg0C2w",
        "outputId": "480aa448-6aeb-4c37-b0fb-72ff7f4aa669"
      },
      "execution_count": 58,
      "outputs": [
        {
          "output_type": "execute_result",
          "data": {
            "text/plain": [
              "Time in seconds    0\n",
              "frontal axis       0\n",
              "vertical axis      0\n",
              "lateral axis       0\n",
              "Id sensor          0\n",
              "RSSI               0\n",
              "Phase              0\n",
              "Frequency          0\n",
              "activity           0\n",
              "dtype: int64"
            ]
          },
          "metadata": {},
          "execution_count": 58
        }
      ]
    },
    {
      "cell_type": "code",
      "source": [
        "df.duplicated().sum() #Поиск дубликатов"
      ],
      "metadata": {
        "colab": {
          "base_uri": "https://localhost:8080/",
          "height": 0
        },
        "id": "2fU2D71o0ESB",
        "outputId": "f3dd5eec-3a7b-4b93-efc5-8733343e54de"
      },
      "execution_count": 59,
      "outputs": [
        {
          "output_type": "execute_result",
          "data": {
            "text/plain": [
              "0"
            ]
          },
          "metadata": {},
          "execution_count": 59
        }
      ]
    },
    {
      "cell_type": "code",
      "source": [
        "df.describe()"
      ],
      "metadata": {
        "colab": {
          "base_uri": "https://localhost:8080/",
          "height": 300
        },
        "id": "OVajubpH0FlZ",
        "outputId": "29214728-388a-4f70-bd1b-da1fff09243f"
      },
      "execution_count": 60,
      "outputs": [
        {
          "output_type": "execute_result",
          "data": {
            "text/plain": [
              "       Time in seconds  frontal axis  vertical axis  lateral axis  \\\n",
              "count      2529.000000   2529.000000    2529.000000   2529.000000   \n",
              "mean        384.029021      0.355707       0.377902     -0.946508   \n",
              "std         275.715260      0.118218       0.119013      0.104630   \n",
              "min           0.000000     -0.173540       0.078086     -1.154000   \n",
              "25%          97.500000      0.283760       0.296270     -1.005700   \n",
              "50%         521.000000      0.330660       0.342200     -0.948730   \n",
              "75%         641.330000      0.424460       0.480000     -0.914520   \n",
              "max         755.250000      0.752770       1.008200      0.157360   \n",
              "\n",
              "         Id sensor         RSSI        Phase    Frequency     activity  \n",
              "count  2529.000000  2529.000000  2529.000000  2529.000000  2529.000000  \n",
              "mean      2.398181   -55.476671     2.606193   922.210261     2.988533  \n",
              "std       0.497633     7.323156     1.729858     1.507268     0.191459  \n",
              "min       1.000000   -71.000000     0.001534   920.250000     1.000000  \n",
              "25%       2.000000   -62.500000     1.449600   920.750000     3.000000  \n",
              "50%       2.000000   -51.500000     2.245700   921.750000     3.000000  \n",
              "75%       3.000000   -49.000000     3.117000   923.250000     3.000000  \n",
              "max       3.000000   -44.000000     6.281700   925.750000     4.000000  "
            ],
            "text/html": [
              "\n",
              "  <div id=\"df-7a801968-7099-4862-b601-8e8ef6905b9a\">\n",
              "    <div class=\"colab-df-container\">\n",
              "      <div>\n",
              "<style scoped>\n",
              "    .dataframe tbody tr th:only-of-type {\n",
              "        vertical-align: middle;\n",
              "    }\n",
              "\n",
              "    .dataframe tbody tr th {\n",
              "        vertical-align: top;\n",
              "    }\n",
              "\n",
              "    .dataframe thead th {\n",
              "        text-align: right;\n",
              "    }\n",
              "</style>\n",
              "<table border=\"1\" class=\"dataframe\">\n",
              "  <thead>\n",
              "    <tr style=\"text-align: right;\">\n",
              "      <th></th>\n",
              "      <th>Time in seconds</th>\n",
              "      <th>frontal axis</th>\n",
              "      <th>vertical axis</th>\n",
              "      <th>lateral axis</th>\n",
              "      <th>Id sensor</th>\n",
              "      <th>RSSI</th>\n",
              "      <th>Phase</th>\n",
              "      <th>Frequency</th>\n",
              "      <th>activity</th>\n",
              "    </tr>\n",
              "  </thead>\n",
              "  <tbody>\n",
              "    <tr>\n",
              "      <th>count</th>\n",
              "      <td>2529.000000</td>\n",
              "      <td>2529.000000</td>\n",
              "      <td>2529.000000</td>\n",
              "      <td>2529.000000</td>\n",
              "      <td>2529.000000</td>\n",
              "      <td>2529.000000</td>\n",
              "      <td>2529.000000</td>\n",
              "      <td>2529.000000</td>\n",
              "      <td>2529.000000</td>\n",
              "    </tr>\n",
              "    <tr>\n",
              "      <th>mean</th>\n",
              "      <td>384.029021</td>\n",
              "      <td>0.355707</td>\n",
              "      <td>0.377902</td>\n",
              "      <td>-0.946508</td>\n",
              "      <td>2.398181</td>\n",
              "      <td>-55.476671</td>\n",
              "      <td>2.606193</td>\n",
              "      <td>922.210261</td>\n",
              "      <td>2.988533</td>\n",
              "    </tr>\n",
              "    <tr>\n",
              "      <th>std</th>\n",
              "      <td>275.715260</td>\n",
              "      <td>0.118218</td>\n",
              "      <td>0.119013</td>\n",
              "      <td>0.104630</td>\n",
              "      <td>0.497633</td>\n",
              "      <td>7.323156</td>\n",
              "      <td>1.729858</td>\n",
              "      <td>1.507268</td>\n",
              "      <td>0.191459</td>\n",
              "    </tr>\n",
              "    <tr>\n",
              "      <th>min</th>\n",
              "      <td>0.000000</td>\n",
              "      <td>-0.173540</td>\n",
              "      <td>0.078086</td>\n",
              "      <td>-1.154000</td>\n",
              "      <td>1.000000</td>\n",
              "      <td>-71.000000</td>\n",
              "      <td>0.001534</td>\n",
              "      <td>920.250000</td>\n",
              "      <td>1.000000</td>\n",
              "    </tr>\n",
              "    <tr>\n",
              "      <th>25%</th>\n",
              "      <td>97.500000</td>\n",
              "      <td>0.283760</td>\n",
              "      <td>0.296270</td>\n",
              "      <td>-1.005700</td>\n",
              "      <td>2.000000</td>\n",
              "      <td>-62.500000</td>\n",
              "      <td>1.449600</td>\n",
              "      <td>920.750000</td>\n",
              "      <td>3.000000</td>\n",
              "    </tr>\n",
              "    <tr>\n",
              "      <th>50%</th>\n",
              "      <td>521.000000</td>\n",
              "      <td>0.330660</td>\n",
              "      <td>0.342200</td>\n",
              "      <td>-0.948730</td>\n",
              "      <td>2.000000</td>\n",
              "      <td>-51.500000</td>\n",
              "      <td>2.245700</td>\n",
              "      <td>921.750000</td>\n",
              "      <td>3.000000</td>\n",
              "    </tr>\n",
              "    <tr>\n",
              "      <th>75%</th>\n",
              "      <td>641.330000</td>\n",
              "      <td>0.424460</td>\n",
              "      <td>0.480000</td>\n",
              "      <td>-0.914520</td>\n",
              "      <td>3.000000</td>\n",
              "      <td>-49.000000</td>\n",
              "      <td>3.117000</td>\n",
              "      <td>923.250000</td>\n",
              "      <td>3.000000</td>\n",
              "    </tr>\n",
              "    <tr>\n",
              "      <th>max</th>\n",
              "      <td>755.250000</td>\n",
              "      <td>0.752770</td>\n",
              "      <td>1.008200</td>\n",
              "      <td>0.157360</td>\n",
              "      <td>3.000000</td>\n",
              "      <td>-44.000000</td>\n",
              "      <td>6.281700</td>\n",
              "      <td>925.750000</td>\n",
              "      <td>4.000000</td>\n",
              "    </tr>\n",
              "  </tbody>\n",
              "</table>\n",
              "</div>\n",
              "      <button class=\"colab-df-convert\" onclick=\"convertToInteractive('df-7a801968-7099-4862-b601-8e8ef6905b9a')\"\n",
              "              title=\"Convert this dataframe to an interactive table.\"\n",
              "              style=\"display:none;\">\n",
              "        \n",
              "  <svg xmlns=\"http://www.w3.org/2000/svg\" height=\"24px\"viewBox=\"0 0 24 24\"\n",
              "       width=\"24px\">\n",
              "    <path d=\"M0 0h24v24H0V0z\" fill=\"none\"/>\n",
              "    <path d=\"M18.56 5.44l.94 2.06.94-2.06 2.06-.94-2.06-.94-.94-2.06-.94 2.06-2.06.94zm-11 1L8.5 8.5l.94-2.06 2.06-.94-2.06-.94L8.5 2.5l-.94 2.06-2.06.94zm10 10l.94 2.06.94-2.06 2.06-.94-2.06-.94-.94-2.06-.94 2.06-2.06.94z\"/><path d=\"M17.41 7.96l-1.37-1.37c-.4-.4-.92-.59-1.43-.59-.52 0-1.04.2-1.43.59L10.3 9.45l-7.72 7.72c-.78.78-.78 2.05 0 2.83L4 21.41c.39.39.9.59 1.41.59.51 0 1.02-.2 1.41-.59l7.78-7.78 2.81-2.81c.8-.78.8-2.07 0-2.86zM5.41 20L4 18.59l7.72-7.72 1.47 1.35L5.41 20z\"/>\n",
              "  </svg>\n",
              "      </button>\n",
              "      \n",
              "  <style>\n",
              "    .colab-df-container {\n",
              "      display:flex;\n",
              "      flex-wrap:wrap;\n",
              "      gap: 12px;\n",
              "    }\n",
              "\n",
              "    .colab-df-convert {\n",
              "      background-color: #E8F0FE;\n",
              "      border: none;\n",
              "      border-radius: 50%;\n",
              "      cursor: pointer;\n",
              "      display: none;\n",
              "      fill: #1967D2;\n",
              "      height: 32px;\n",
              "      padding: 0 0 0 0;\n",
              "      width: 32px;\n",
              "    }\n",
              "\n",
              "    .colab-df-convert:hover {\n",
              "      background-color: #E2EBFA;\n",
              "      box-shadow: 0px 1px 2px rgba(60, 64, 67, 0.3), 0px 1px 3px 1px rgba(60, 64, 67, 0.15);\n",
              "      fill: #174EA6;\n",
              "    }\n",
              "\n",
              "    [theme=dark] .colab-df-convert {\n",
              "      background-color: #3B4455;\n",
              "      fill: #D2E3FC;\n",
              "    }\n",
              "\n",
              "    [theme=dark] .colab-df-convert:hover {\n",
              "      background-color: #434B5C;\n",
              "      box-shadow: 0px 1px 3px 1px rgba(0, 0, 0, 0.15);\n",
              "      filter: drop-shadow(0px 1px 2px rgba(0, 0, 0, 0.3));\n",
              "      fill: #FFFFFF;\n",
              "    }\n",
              "  </style>\n",
              "\n",
              "      <script>\n",
              "        const buttonEl =\n",
              "          document.querySelector('#df-7a801968-7099-4862-b601-8e8ef6905b9a button.colab-df-convert');\n",
              "        buttonEl.style.display =\n",
              "          google.colab.kernel.accessAllowed ? 'block' : 'none';\n",
              "\n",
              "        async function convertToInteractive(key) {\n",
              "          const element = document.querySelector('#df-7a801968-7099-4862-b601-8e8ef6905b9a');\n",
              "          const dataTable =\n",
              "            await google.colab.kernel.invokeFunction('convertToInteractive',\n",
              "                                                     [key], {});\n",
              "          if (!dataTable) return;\n",
              "\n",
              "          const docLinkHtml = 'Like what you see? Visit the ' +\n",
              "            '<a target=\"_blank\" href=https://colab.research.google.com/notebooks/data_table.ipynb>data table notebook</a>'\n",
              "            + ' to learn more about interactive tables.';\n",
              "          element.innerHTML = '';\n",
              "          dataTable['output_type'] = 'display_data';\n",
              "          await google.colab.output.renderOutput(dataTable, element);\n",
              "          const docLink = document.createElement('div');\n",
              "          docLink.innerHTML = docLinkHtml;\n",
              "          element.appendChild(docLink);\n",
              "        }\n",
              "      </script>\n",
              "    </div>\n",
              "  </div>\n",
              "  "
            ]
          },
          "metadata": {},
          "execution_count": 60
        }
      ]
    },
    {
      "cell_type": "code",
      "source": [
        "df.shape[0]"
      ],
      "metadata": {
        "colab": {
          "base_uri": "https://localhost:8080/",
          "height": 0
        },
        "id": "Xzn1gMGg0K2H",
        "outputId": "debae352-4910-4ead-b556-f3897fd63cff"
      },
      "execution_count": 61,
      "outputs": [
        {
          "output_type": "execute_result",
          "data": {
            "text/plain": [
              "2529"
            ]
          },
          "metadata": {},
          "execution_count": 61
        }
      ]
    },
    {
      "cell_type": "code",
      "source": [
        "len(df.columns)"
      ],
      "metadata": {
        "colab": {
          "base_uri": "https://localhost:8080/",
          "height": 0
        },
        "id": "PCZgs-eE0MUM",
        "outputId": "13b70b11-f72b-4096-fe28-35ac909d5f5d"
      },
      "execution_count": 62,
      "outputs": [
        {
          "output_type": "execute_result",
          "data": {
            "text/plain": [
              "9"
            ]
          },
          "metadata": {},
          "execution_count": 62
        }
      ]
    },
    {
      "cell_type": "code",
      "source": [
        "corr = df.loc[:, df.columns != 'activity'].corr()\n",
        "with sns.axes_style(\"white\"):\n",
        "    ax = plt.subplots(figsize=(40, 30))\n",
        "    ax = sns.heatmap(corr, square=True,annot = True, linewidths=.5)"
      ],
      "metadata": {
        "colab": {
          "base_uri": "https://localhost:8080/",
          "height": 1000
        },
        "id": "hjsSQME_0NzI",
        "outputId": "0ad81e86-5f46-498e-94a9-b388b814d8dc"
      },
      "execution_count": 63,
      "outputs": [
        {
          "output_type": "display_data",
          "data": {
            "text/plain": [
              "<Figure size 2880x2160 with 2 Axes>"
            ],
            "image/png": "[encoded data removed]"
          },
          "metadata": {}
        }
      ]
    },
    {
      "cell_type": "code",
      "source": [
        "# Метод опорных компонент\n",
        "\n",
        "# Стандартизация данных\n",
        "\n",
        "parametr = df.columns.tolist()\n",
        "\n",
        "normalized_df = pd.DataFrame()\n",
        "\n",
        "for column in range(len(parametr)-1):\n",
        "    normalized_df[parametr[column]]=( df[parametr[column]]-df[parametr[column]].mean() ) / (df[parametr[column]].std(ddof=0))   \n",
        "\n",
        "normalized_df['activity'] = df['activity']\n",
        "\n",
        "normalized_df"
      ],
      "metadata": {
        "colab": {
          "base_uri": "https://localhost:8080/",
          "height": 424
        },
        "id": "YgcsrWhl0YFa",
        "outputId": "a52b1006-2cda-4071-c672-447d91cfe229"
      },
      "execution_count": 64,
      "outputs": [
        {
          "output_type": "execute_result",
          "data": {
            "text/plain": [
              "      Time in seconds  frontal axis  vertical axis  lateral axis  Id sensor  \\\n",
              "0           -1.393122      1.871341       4.235725      8.263191  -0.800308   \n",
              "1           -1.385867      0.879334       3.656684      7.609156  -0.800308   \n",
              "2           -1.381332      0.879334       3.656684      7.609156  -0.800308   \n",
              "3           -1.378611      1.871341       3.753163      7.827206   1.209601   \n",
              "4           -1.374984      0.581689       4.235725      8.045160  -0.800308   \n",
              "...               ...           ...            ...           ...        ...   \n",
              "2524         1.341217     -1.104765       5.104287      9.353248  -2.810216   \n",
              "2525         1.341508     -1.104765       5.104287      9.353248  -2.810216   \n",
              "2526         1.341689     -1.104765       5.104287      9.353248  -2.810216   \n",
              "2527         1.342124     -0.112758       4.718203     10.552301  -2.810216   \n",
              "2528         1.346659     -0.906364       5.104287      9.244242  -2.810216   \n",
              "\n",
              "          RSSI     Phase  Frequency  activity  \n",
              "0    -0.890957 -1.144131   0.358162         4  \n",
              "1    -0.617797 -1.002218   2.348911         4  \n",
              "2    -1.642148 -1.290478   2.017119         4  \n",
              "3    -1.027538  1.879431  -0.305421         1  \n",
              "4    -0.549507  1.499845   1.021745         1  \n",
              "...        ...       ...        ...       ...  \n",
              "2524  0.884585  1.848382  -0.305421         4  \n",
              "2525  0.884585  1.796981  -0.305421         4  \n",
              "2526  0.884585  1.617797  -0.305421         4  \n",
              "2527  0.543134  1.990329   1.353536         4  \n",
              "2528 -0.481217 -0.599528   0.026370         2  \n",
              "\n",
              "[2529 rows x 9 columns]"
            ],
            "text/html": [
              "\n",
              "  <div id=\"df-71e49fbd-8aa6-429d-a54f-f6e8ab7e6d4f\">\n",
              "    <div class=\"colab-df-container\">\n",
              "      <div>\n",
              "<style scoped>\n",
              "    .dataframe tbody tr th:only-of-type {\n",
              "        vertical-align: middle;\n",
              "    }\n",
              "\n",
              "    .dataframe tbody tr th {\n",
              "        vertical-align: top;\n",
              "    }\n",
              "\n",
              "    .dataframe thead th {\n",
              "        text-align: right;\n",
              "    }\n",
              "</style>\n",
              "<table border=\"1\" class=\"dataframe\">\n",
              "  <thead>\n",
              "    <tr style=\"text-align: right;\">\n",
              "      <th></th>\n",
              "      <th>Time in seconds</th>\n",
              "      <th>frontal axis</th>\n",
              "      <th>vertical axis</th>\n",
              "      <th>lateral axis</th>\n",
              "      <th>Id sensor</th>\n",
              "      <th>RSSI</th>\n",
              "      <th>Phase</th>\n",
              "      <th>Frequency</th>\n",
              "      <th>activity</th>\n",
              "    </tr>\n",
              "  </thead>\n",
              "  <tbody>\n",
              "    <tr>\n",
              "      <th>0</th>\n",
              "      <td>-1.393122</td>\n",
              "      <td>1.871341</td>\n",
              "      <td>4.235725</td>\n",
              "      <td>8.263191</td>\n",
              "      <td>-0.800308</td>\n",
              "      <td>-0.890957</td>\n",
              "      <td>-1.144131</td>\n",
              "      <td>0.358162</td>\n",
              "      <td>4</td>\n",
              "    </tr>\n",
              "    <tr>\n",
              "      <th>1</th>\n",
              "      <td>-1.385867</td>\n",
              "      <td>0.879334</td>\n",
              "      <td>3.656684</td>\n",
              "      <td>7.609156</td>\n",
              "      <td>-0.800308</td>\n",
              "      <td>-0.617797</td>\n",
              "      <td>-1.002218</td>\n",
              "      <td>2.348911</td>\n",
              "      <td>4</td>\n",
              "    </tr>\n",
              "    <tr>\n",
              "      <th>2</th>\n",
              "      <td>-1.381332</td>\n",
              "      <td>0.879334</td>\n",
              "      <td>3.656684</td>\n",
              "      <td>7.609156</td>\n",
              "      <td>-0.800308</td>\n",
              "      <td>-1.642148</td>\n",
              "      <td>-1.290478</td>\n",
              "      <td>2.017119</td>\n",
              "      <td>4</td>\n",
              "    </tr>\n",
              "    <tr>\n",
              "      <th>3</th>\n",
              "      <td>-1.378611</td>\n",
              "      <td>1.871341</td>\n",
              "      <td>3.753163</td>\n",
              "      <td>7.827206</td>\n",
              "      <td>1.209601</td>\n",
              "      <td>-1.027538</td>\n",
              "      <td>1.879431</td>\n",
              "      <td>-0.305421</td>\n",
              "      <td>1</td>\n",
              "    </tr>\n",
              "    <tr>\n",
              "      <th>4</th>\n",
              "      <td>-1.374984</td>\n",
              "      <td>0.581689</td>\n",
              "      <td>4.235725</td>\n",
              "      <td>8.045160</td>\n",
              "      <td>-0.800308</td>\n",
              "      <td>-0.549507</td>\n",
              "      <td>1.499845</td>\n",
              "      <td>1.021745</td>\n",
              "      <td>1</td>\n",
              "    </tr>\n",
              "    <tr>\n",
              "      <th>...</th>\n",
              "      <td>...</td>\n",
              "      <td>...</td>\n",
              "      <td>...</td>\n",
              "      <td>...</td>\n",
              "      <td>...</td>\n",
              "      <td>...</td>\n",
              "      <td>...</td>\n",
              "      <td>...</td>\n",
              "      <td>...</td>\n",
              "    </tr>\n",
              "    <tr>\n",
              "      <th>2524</th>\n",
              "      <td>1.341217</td>\n",
              "      <td>-1.104765</td>\n",
              "      <td>5.104287</td>\n",
              "      <td>9.353248</td>\n",
              "      <td>-2.810216</td>\n",
              "      <td>0.884585</td>\n",
              "      <td>1.848382</td>\n",
              "      <td>-0.305421</td>\n",
              "      <td>4</td>\n",
              "    </tr>\n",
              "    <tr>\n",
              "      <th>2525</th>\n",
              "      <td>1.341508</td>\n",
              "      <td>-1.104765</td>\n",
              "      <td>5.104287</td>\n",
              "      <td>9.353248</td>\n",
              "      <td>-2.810216</td>\n",
              "      <td>0.884585</td>\n",
              "      <td>1.796981</td>\n",
              "      <td>-0.305421</td>\n",
              "      <td>4</td>\n",
              "    </tr>\n",
              "    <tr>\n",
              "      <th>2526</th>\n",
              "      <td>1.341689</td>\n",
              "      <td>-1.104765</td>\n",
              "      <td>5.104287</td>\n",
              "      <td>9.353248</td>\n",
              "      <td>-2.810216</td>\n",
              "      <td>0.884585</td>\n",
              "      <td>1.617797</td>\n",
              "      <td>-0.305421</td>\n",
              "      <td>4</td>\n",
              "    </tr>\n",
              "    <tr>\n",
              "      <th>2527</th>\n",
              "      <td>1.342124</td>\n",
              "      <td>-0.112758</td>\n",
              "      <td>4.718203</td>\n",
              "      <td>10.552301</td>\n",
              "      <td>-2.810216</td>\n",
              "      <td>0.543134</td>\n",
              "      <td>1.990329</td>\n",
              "      <td>1.353536</td>\n",
              "      <td>4</td>\n",
              "    </tr>\n",
              "    <tr>\n",
              "      <th>2528</th>\n",
              "      <td>1.346659</td>\n",
              "      <td>-0.906364</td>\n",
              "      <td>5.104287</td>\n",
              "      <td>9.244242</td>\n",
              "      <td>-2.810216</td>\n",
              "      <td>-0.481217</td>\n",
              "      <td>-0.599528</td>\n",
              "      <td>0.026370</td>\n",
              "      <td>2</td>\n",
              "    </tr>\n",
              "  </tbody>\n",
              "</table>\n",
              "<p>2529 rows × 9 columns</p>\n",
              "</div>\n",
              "      <button class=\"colab-df-convert\" onclick=\"convertToInteractive('df-71e49fbd-8aa6-429d-a54f-f6e8ab7e6d4f')\"\n",
              "              title=\"Convert this dataframe to an interactive table.\"\n",
              "              style=\"display:none;\">\n",
              "        \n",
              "  <svg xmlns=\"http://www.w3.org/2000/svg\" height=\"24px\"viewBox=\"0 0 24 24\"\n",
              "       width=\"24px\">\n",
              "    <path d=\"M0 0h24v24H0V0z\" fill=\"none\"/>\n",
              "    <path d=\"M18.56 5.44l.94 2.06.94-2.06 2.06-.94-2.06-.94-.94-2.06-.94 2.06-2.06.94zm-11 1L8.5 8.5l.94-2.06 2.06-.94-2.06-.94L8.5 2.5l-.94 2.06-2.06.94zm10 10l.94 2.06.94-2.06 2.06-.94-2.06-.94-.94-2.06-.94 2.06-2.06.94z\"/><path d=\"M17.41 7.96l-1.37-1.37c-.4-.4-.92-.59-1.43-.59-.52 0-1.04.2-1.43.59L10.3 9.45l-7.72 7.72c-.78.78-.78 2.05 0 2.83L4 21.41c.39.39.9.59 1.41.59.51 0 1.02-.2 1.41-.59l7.78-7.78 2.81-2.81c.8-.78.8-2.07 0-2.86zM5.41 20L4 18.59l7.72-7.72 1.47 1.35L5.41 20z\"/>\n",
              "  </svg>\n",
              "      </button>\n",
              "      \n",
              "  <style>\n",
              "    .colab-df-container {\n",
              "      display:flex;\n",
              "      flex-wrap:wrap;\n",
              "      gap: 12px;\n",
              "    }\n",
              "\n",
              "    .colab-df-convert {\n",
              "      background-color: #E8F0FE;\n",
              "      border: none;\n",
              "      border-radius: 50%;\n",
              "      cursor: pointer;\n",
              "      display: none;\n",
              "      fill: #1967D2;\n",
              "      height: 32px;\n",
              "      padding: 0 0 0 0;\n",
              "      width: 32px;\n",
              "    }\n",
              "\n",
              "    .colab-df-convert:hover {\n",
              "      background-color: #E2EBFA;\n",
              "      box-shadow: 0px 1px 2px rgba(60, 64, 67, 0.3), 0px 1px 3px 1px rgba(60, 64, 67, 0.15);\n",
              "      fill: #174EA6;\n",
              "    }\n",
              "\n",
              "    [theme=dark] .colab-df-convert {\n",
              "      background-color: #3B4455;\n",
              "      fill: #D2E3FC;\n",
              "    }\n",
              "\n",
              "    [theme=dark] .colab-df-convert:hover {\n",
              "      background-color: #434B5C;\n",
              "      box-shadow: 0px 1px 3px 1px rgba(0, 0, 0, 0.15);\n",
              "      filter: drop-shadow(0px 1px 2px rgba(0, 0, 0, 0.3));\n",
              "      fill: #FFFFFF;\n",
              "    }\n",
              "  </style>\n",
              "\n",
              "      <script>\n",
              "        const buttonEl =\n",
              "          document.querySelector('#df-71e49fbd-8aa6-429d-a54f-f6e8ab7e6d4f button.colab-df-convert');\n",
              "        buttonEl.style.display =\n",
              "          google.colab.kernel.accessAllowed ? 'block' : 'none';\n",
              "\n",
              "        async function convertToInteractive(key) {\n",
              "          const element = document.querySelector('#df-71e49fbd-8aa6-429d-a54f-f6e8ab7e6d4f');\n",
              "          const dataTable =\n",
              "            await google.colab.kernel.invokeFunction('convertToInteractive',\n",
              "                                                     [key], {});\n",
              "          if (!dataTable) return;\n",
              "\n",
              "          const docLinkHtml = 'Like what you see? Visit the ' +\n",
              "            '<a target=\"_blank\" href=https://colab.research.google.com/notebooks/data_table.ipynb>data table notebook</a>'\n",
              "            + ' to learn more about interactive tables.';\n",
              "          element.innerHTML = '';\n",
              "          dataTable['output_type'] = 'display_data';\n",
              "          await google.colab.output.renderOutput(dataTable, element);\n",
              "          const docLink = document.createElement('div');\n",
              "          docLink.innerHTML = docLinkHtml;\n",
              "          element.appendChild(docLink);\n",
              "        }\n",
              "      </script>\n",
              "    </div>\n",
              "  </div>\n",
              "  "
            ]
          },
          "metadata": {},
          "execution_count": 64
        }
      ]
    },
    {
      "cell_type": "code",
      "source": [
        "test_df = normalized_df[:9000]\n",
        "\n",
        "features, target = test_df.drop(columns=['activity']).to_numpy(), np.array(test_df['activity'])\n",
        "pca = PCA(n_components=2)\n",
        "principalComponents = pca.fit_transform(features)\n",
        "\n",
        "principalDf = pd.DataFrame(data = principalComponents\n",
        "             , columns = ['principal component 1', 'principal component 2'])\n",
        "finalDf = pd.concat([principalDf, test_df['activity']], axis = 1)\n",
        "\n",
        "def plot_clusters(df, text):\n",
        "    fig = plt.figure(figsize = (8,8))\n",
        "    ax = fig.add_subplot(1,1,1) \n",
        "    ax.set_xlabel('Principal Component 1', fontsize = 15)\n",
        "    ax.set_ylabel('Principal Component 2', fontsize = 15)\n",
        "    ax.set_title(f'2 component PCA {text}', fontsize = 20)\n",
        "    targets = [1, 2, 3, 4]\n",
        "    colors = ['r', 'g', 'b', 'y']\n",
        "    for target, color in zip(targets,colors):\n",
        "        indicesToKeep = df['activity'] == target\n",
        "        ax.scatter(df.loc[indicesToKeep, 'principal component 1']\n",
        "                   , df.loc[indicesToKeep, 'principal component 2']\n",
        "                   , c = color\n",
        "                   , s = 50)\n",
        "    ax.legend(targets)\n",
        "    ax.grid()"
      ],
      "metadata": {
        "id": "lKqeunJe0osZ"
      },
      "execution_count": 65,
      "outputs": []
    },
    {
      "cell_type": "code",
      "source": [
        "plot_clusters(finalDf, 'real classes')"
      ],
      "metadata": {
        "colab": {
          "base_uri": "https://localhost:8080/",
          "height": 523
        },
        "id": "EtN7hc1Y0zSh",
        "outputId": "33e793ef-b46b-4e58-820a-876376536a0b"
      },
      "execution_count": 66,
      "outputs": [
        {
          "output_type": "display_data",
          "data": {
            "text/plain": [
              "<Figure size 576x576 with 1 Axes>"
            ],
            "image/png": "[encoded data removed]"
          },
          "metadata": {
            "needs_background": "light"
          }
        }
      ]
    },
    {
      "cell_type": "code",
      "source": [
        "def euclide_metrics(X_i, X_k):\n",
        "    distance = 0\n",
        "    for x in range (len(X_i)):\n",
        "        distance += pow((X_i[x] - X_k[x]), 2)\n",
        "    return math.sqrt(distance)\n",
        "\n",
        "def initialize_centroids(data, k):\n",
        "    centroids = []\n",
        "    centroids.append(data[np.random.randint(\n",
        "    data.shape[0]), :])\n",
        "    \n",
        "    distances = []\n",
        "    L = 0\n",
        "    for i in range(len(data)):\n",
        "        dist = euclide_metrics(data[i], centroids[0])\n",
        "        distances.append(dist)\n",
        "        L += pow(dist, 2)\n",
        "    \n",
        "    u_n = np.random.uniform(0, 1, k-1)\n",
        "    for c_i in range(k-1):\n",
        "        j = 0\n",
        "        u = u_n[c_i]\n",
        "        Sum = 0 \n",
        "        while Sum < u:\n",
        "            Sum += (pow(distances[j],2) / L)\n",
        "            j += 1\n",
        "        centroids.append(data[j])\n",
        "    \n",
        "    return centroids\n",
        "def k_means(data, start_centroids, eps = 0.01):\n",
        "    centroids = start_centroids.copy()\n",
        "    iterations = 0\n",
        "    \n",
        "    while (iterations <= 100):\n",
        "        clusters = []\n",
        "        for i in range(len(centroids)):\n",
        "            clusters.append([centroids[i]])\n",
        "        \n",
        "        for i in range(len(data)):\n",
        "            distances_to_cluster = []\n",
        "            for j in range(len(centroids)):\n",
        "                dist = euclide_metrics(data[i], centroids[j])\n",
        "                distances_to_cluster.append(dist)\n",
        "\n",
        "            num_cluster = distances_to_cluster.index(min(distances_to_cluster))\n",
        "            clusters[num_cluster].append(data[i])\n",
        "\n",
        "        new_centroids = []\n",
        "        for object_i in range(len(clusters)):\n",
        "            n = len(clusters[object_i])\n",
        "            new_centroids.append(np.sum(clusters[object_i], axis = 0) / n)\n",
        "        \n",
        "        distance_new_old_centroid = []\n",
        "        for i in range(len(centroids)):\n",
        "            dist = euclide_metrics(new_centroids[i], centroids[i])\n",
        "            distance_new_old_centroid.append(dist)\n",
        "        \n",
        "        if max(distance_new_old_centroid) < eps:\n",
        "            return new_centroids, clusters, iterations\n",
        "        else:\n",
        "            iterations += 1\n",
        "            centroids = new_centroids.copy()\n",
        "        \n",
        "        \n",
        "    return new_centroids, clusters, iterations"
      ],
      "metadata": {
        "id": "Q2L0myL81Ctn"
      },
      "execution_count": 67,
      "outputs": []
    },
    {
      "cell_type": "code",
      "source": [
        "centroids = initialize_centroids(features, 4)\n",
        "\n",
        "new_centroids, clusters, iters = k_means(features, centroids)\n",
        "\n",
        "def return_df(clusters, centroids):\n",
        "    array = clusters.copy()\n",
        "    array_centroids = centroids.copy()\n",
        "    header = ['Time in seconds', 'frontal axis', 'vertical axis', 'lateral axis', 'Id sensor', 'RSSI', 'Phase', 'Frequency']\n",
        "    df = pd.DataFrame(columns = header)\n",
        "    df_centroids = pd.DataFrame(columns = header)\n",
        "    for i in range(4):\n",
        "        array_centroids[i] = np.append(array_centroids[i], i+1)\n",
        "        array[i].pop(0)\n",
        "        df_clusters = pd.DataFrame(data = array[i], columns = header)\n",
        "        df_clusters.insert(8, \"activity\", i+1)\n",
        "        df = pd.concat([df, df_clusters], ignore_index=True)\n",
        "    \n",
        "    df_centroids = pd.DataFrame(data = array_centroids, columns = header1)\n",
        "    df = pd.concat([df, df_centroids], ignore_index=True)\n",
        "    df['activity'] = df['activity'].astype('int')\n",
        "    \n",
        "    features_kmeans, target_kmeans = df.drop(columns=['activity']).to_numpy(), np.array(df['activity'])\n",
        "    pca = PCA(n_components=2)\n",
        "    principalComponents = pca.fit_transform(features_kmeans)\n",
        "    \n",
        "    principalDf = pd.DataFrame(data = principalComponents\n",
        "             , columns = ['principal component 1', 'principal component 2'])\n",
        "    finalDf = pd.concat([principalDf, df['activity']], axis = 1)\n",
        "    \n",
        "    return finalDf"
      ],
      "metadata": {
        "id": "BVgasaBs1Dxm"
      },
      "execution_count": 68,
      "outputs": []
    },
    {
      "cell_type": "code",
      "source": [
        "principal_df = return_df(clusters, new_centroids)\n",
        "plot_clusters(return_df(clusters, new_centroids), 'k-means classes')"
      ],
      "metadata": {
        "colab": {
          "base_uri": "https://localhost:8080/",
          "height": 523
        },
        "id": "BYdyk5NR1Leg",
        "outputId": "f7a7e36e-d227-4a50-d88e-1a857b31ce5c"
      },
      "execution_count": 74,
      "outputs": [
        {
          "output_type": "display_data",
          "data": {
            "text/plain": [
              "<Figure size 576x576 with 1 Axes>"
            ],
            "image/png": "[encoded data removed]"
          },
          "metadata": {
            "needs_background": "light"
          }
        }
      ]
    },
    {
      "cell_type": "code",
      "source": [
        "plot_clusters(finalDf, 'real classes')"
      ],
      "metadata": {
        "colab": {
          "base_uri": "https://localhost:8080/",
          "height": 523
        },
        "id": "3KFMTzz61OIC",
        "outputId": "d91b6ede-d227-4db3-a081-7d2f9e52f989"
      },
      "execution_count": 75,
      "outputs": [
        {
          "output_type": "display_data",
          "data": {
            "text/plain": [
              "<Figure size 576x576 with 1 Axes>"
            ],
            "image/png": "[encoded data removed]"
          },
          "metadata": {
            "needs_background": "light"
          }
        }
      ]
    },
    {
      "cell_type": "code",
      "source": [
        "def split_train_test(X, y, test_ratio):\n",
        "  np.random.seed(42)\n",
        "  shuffled_indices = np.random.permutation(len(X))\n",
        "  test_set_size = int(len(X)*test_ratio)\n",
        "  test_indices = shuffled_indices[:test_set_size]\n",
        "  train_indices = shuffled_indices[test_set_size:]\n",
        "  return X[train_indices], X[test_indices], y[train_indices], y[test_indices] # вернет строки, указанные в idices"
      ],
      "metadata": {
        "id": "1tfTyBMj1Qn2"
      },
      "execution_count": 76,
      "outputs": []
    },
    {
      "cell_type": "code",
      "source": [
        "test_df = normalized_df[:6000]\n",
        "features_full, target_full = normalized_df.drop(columns=['activity']).to_numpy(), np.array(normalized_df['activity'])\n",
        "X_train_f, X_test_f, y_train_f, y_test_f = split_train_test(features_full, target_full, .2)\n",
        "print(len(X_train_f), 'train +',len(X_test_f),'test')"
      ],
      "metadata": {
        "colab": {
          "base_uri": "https://localhost:8080/",
          "height": 0
        },
        "id": "YcBU2V5A1dJU",
        "outputId": "ffc48a74-6261-4f42-e063-91aebd80ca34"
      },
      "execution_count": 77,
      "outputs": [
        {
          "output_type": "stream",
          "name": "stdout",
          "text": [
            "2024 train + 505 test\n"
          ]
        }
      ]
    },
    {
      "cell_type": "code",
      "source": [
        "X_train, X_test, y_train, y_test = split_train_test(features, target, .2)\n",
        "print(len(X_train), 'train +',len(X_test),'test')"
      ],
      "metadata": {
        "colab": {
          "base_uri": "https://localhost:8080/",
          "height": 0
        },
        "id": "zuBxEvMJ1kY6",
        "outputId": "a44926c8-3e9b-4615-a6b1-1313280abec0"
      },
      "execution_count": 78,
      "outputs": [
        {
          "output_type": "stream",
          "name": "stdout",
          "text": [
            "2024 train + 505 test\n"
          ]
        }
      ]
    },
    {
      "cell_type": "code",
      "source": [
        "class KNN:\n",
        "    def __init__(self, features, target):\n",
        "        self.features = features\n",
        "        self.target = target\n",
        "        self.classes = np.unique(target)\n",
        "        \n",
        "    def euclide_metrics(self, i, object_2, length):\n",
        "        distance = 0\n",
        "        object_1 = self.features[i]\n",
        "        for x in range (length):\n",
        "            distance += pow((object_1[x] - object_2[x]), 2)\n",
        "        return math.sqrt(distance)\n",
        "    \n",
        "    def indicator(neighbors, klass):\n",
        "        indicators = []\n",
        "        for i in range(len(neighbors)):\n",
        "            if neighbors[i] == klass:\n",
        "                indicators.append(1)\n",
        "            else:\n",
        "                indicators.append(0)\n",
        "        return indicators\n",
        "        \n",
        "    def weight(neighbors,q):\n",
        "        weights = []\n",
        "        for i in range(len(neighbors)):\n",
        "            weights.append(q**i)\n",
        "        return weights\n",
        "        \n",
        "    \n",
        "    def chooseNeighbors(self, test_features, k):\n",
        "        distances = []\n",
        "        length = len(test_features)\n",
        "        for x in range(len(self.features)):\n",
        "            dist = self.euclide_metrics(x, test_features, length)\n",
        "            distances.append((self.target[x], dist))\n",
        "        distances.sort(key=operator.itemgetter(1))\n",
        "        #neighbors = [element[0] for element in distances]\n",
        "        neighbors = []\n",
        "        #return neighbors\n",
        "        for x in range(k):\n",
        "            neighbors.append(distances[x][0])\n",
        "        return neighbors\n",
        "    \n",
        "    def getResponse(self, neighbors):\n",
        "        classVotes = {}\n",
        "        class_indicator = []\n",
        "        for response in self.classes:\n",
        "            indicators = []\n",
        "            for i in range(len(neighbors)):\n",
        "                if neighbors[i] == response:\n",
        "                    indicators.append(1)\n",
        "                else:\n",
        "                    indicators.append(0)\n",
        "            #indicators = indicator(neighbors, response)\n",
        "            class_indicator.append(indicators)\n",
        "        \n",
        "        weights = []\n",
        "        q = 0.5\n",
        "        for i in range(len(neighbors)):\n",
        "            weights.append(q**i)\n",
        "        \n",
        "        for x in range(len(neighbors)):\n",
        "            for response in self.classes:\n",
        "                if response in classVotes:\n",
        "                    classVotes[response] += class_indicator[response-1][x]*weights[x]\n",
        "                else:\n",
        "                    classVotes[response] = class_indicator[response-1][x]*weights[x]\n",
        "        sortedVotes = sorted(classVotes.items(), key=operator.itemgetter(1), reverse=True)\n",
        "        return sortedVotes[0][0]\n",
        "    \n",
        "    def getAccuracy(self, target, predictions):\n",
        "        correct = 0\n",
        "        for x in range(len(target)):\n",
        "            if target[x] == predictions[x]:\n",
        "                correct += 1\n",
        "        return round(correct / float(len(target)), 4) * 100.0\n",
        "    \n",
        "    def score(self, test_features, test_target, k):\n",
        "        predictions = []\n",
        "        for x in range(len(test_features)):\n",
        "            neighbors = self.chooseNeighbors(test_features[x], k)\n",
        "            result = self.getResponse(neighbors)\n",
        "            predictions.append(result)\n",
        "        accuracy = self.getAccuracy(test_target, predictions)\n",
        "        return accuracy, predictions"
      ],
      "metadata": {
        "id": "sVQS3v6K1u2F"
      },
      "execution_count": 98,
      "outputs": []
    },
    {
      "cell_type": "code",
      "source": [
        "from sklearn.neighbors import KNeighborsClassifier\n",
        "knn = KNeighborsClassifier(n_neighbors=11)\n",
        "knn.fit(X_train_f, y_train_f)\n",
        "print('Результат sklearn реализации KNN на обучающей выборке: {:.2%}'.format(knn.score(X_train_f, y_train_f)))\n",
        "print('Результат sklearn реализации KNN на тестовой выборке: {:.2%}'.format(knn.score(X_test_f, y_test_f)))"
      ],
      "metadata": {
        "colab": {
          "base_uri": "https://localhost:8080/",
          "height": 0
        },
        "id": "wkLO-A8X3f6y",
        "outputId": "a9a42661-c0c5-4365-b3e1-640af0edaecf"
      },
      "execution_count": 99,
      "outputs": [
        {
          "output_type": "stream",
          "name": "stdout",
          "text": [
            "Результат sklearn реализации KNN на обучающей выборке: 99.51%\n",
            "Результат sklearn реализации KNN на тестовой выборке: 99.41%\n"
          ]
        }
      ]
    },
    {
      "cell_type": "code",
      "source": [
        "class NaiveBayes:\n",
        "    \n",
        "    def fit(self, X, y):\n",
        "        self.classes = np.unique(y)\n",
        "        self.label_probabilities = {}\n",
        "        for response in self.classes:\n",
        "            self.label_probabilities[response] = len(y[y == response]) / len(y)\n",
        "        self.conditional_probabilities = {}\n",
        "        for value in self.classes:\n",
        "            probabilities = []\n",
        "            for column in range(X.shape[1]):\n",
        "                x = X[y == value, column]\n",
        "                probabilities.append([x.mean(), x.std()])\n",
        "            self.conditional_probabilities[value] = probabilities\n",
        "            \n",
        "    \n",
        "    def predict(self, X):\n",
        "        label_probabilities = {}\n",
        "        for value in self.classes:\n",
        "            conditional_feature_probability = self.label_probabilities[value]\n",
        "            for i in range(X.shape[0]):\n",
        "                m = self.conditional_probabilities[value][i][0]\n",
        "                sigma = self.conditional_probabilities[value][i][1]\n",
        "                conditional_feature_probability *= np.exp(-(X[i] - m)**2 / (2 * sigma**2)) / (np.sqrt(2 * np.pi) * sigma)\n",
        "            label_probabilities[value] = conditional_feature_probability\n",
        "        return max(label_probabilities, key=label_probabilities.get)\n",
        "\n",
        "\n",
        "    def score(self, X, y):\n",
        "        rigth_predict_number = 0\n",
        "        predictions = []\n",
        "        for i in range(X.shape[0]):\n",
        "            prediction = self.predict(X[i])\n",
        "            predictions.append(prediction)\n",
        "            if prediction == y[i]:\n",
        "                rigth_predict_number += 1\n",
        "\n",
        "        return round(rigth_predict_number / y.shape[0], 4) * 100"
      ],
      "metadata": {
        "id": "rwWiuQNR3uWs"
      },
      "execution_count": 100,
      "outputs": []
    },
    {
      "cell_type": "code",
      "source": [
        "nb = NaiveBayes()\n",
        "nb.fit(X_train, y_train)"
      ],
      "metadata": {
        "id": "yf7syAtP3wrB"
      },
      "execution_count": 102,
      "outputs": []
    },
    {
      "cell_type": "code",
      "source": [
        "nb_f = NaiveBayes()\n",
        "nb_f.fit(X_train_f, y_train_f)\n",
        "print('Результат собственной реализации наивного байесовского классификатора на обучающей выборке: ', \n",
        "      nb_f.score(X_train_f, y_train_f),'%')\n",
        "print('Результат собственной реализации наивного байесовского классификатора на обучающей выборке: ', \n",
        "      nb.score(X_test_f, y_test_f),'%')"
      ],
      "metadata": {
        "colab": {
          "base_uri": "https://localhost:8080/",
          "height": 0
        },
        "id": "p3krAA5y31d2",
        "outputId": "56652933-6af6-4611-bd73-93a10e667c01"
      },
      "execution_count": 103,
      "outputs": [
        {
          "output_type": "stream",
          "name": "stdout",
          "text": [
            "Результат собственной реализации наивного байесовского классификатора на обучающей выборке:  99.75 %\n",
            "Результат собственной реализации наивного байесовского классификатора на обучающей выборке:  99.6 %\n"
          ]
        }
      ]
    },
    {
      "cell_type": "code",
      "source": [
        "print('Результат собственной реализации наивного байесовского классификатора на обучающей выборке: ', \n",
        "      nb.score(X_train, y_train),'%')"
      ],
      "metadata": {
        "colab": {
          "base_uri": "https://localhost:8080/",
          "height": 0
        },
        "id": "IVVc8hLJ35iF",
        "outputId": "626760ce-5775-49d8-f5fc-c5bb5e4a78bb"
      },
      "execution_count": 104,
      "outputs": [
        {
          "output_type": "stream",
          "name": "stdout",
          "text": [
            "Результат собственной реализации наивного байесовского классификатора на обучающей выборке:  99.75 %\n"
          ]
        }
      ]
    },
    {
      "cell_type": "code",
      "source": [
        "print('Результат собственной реализации наивного байесовского классификатора на обучающей выборке: ', \n",
        "      nb.score(X_test, y_test),'%')"
      ],
      "metadata": {
        "colab": {
          "base_uri": "https://localhost:8080/",
          "height": 0
        },
        "id": "06r73Hyf37e6",
        "outputId": "46eba594-f758-4e2b-b774-db969f21349e"
      },
      "execution_count": 105,
      "outputs": [
        {
          "output_type": "stream",
          "name": "stdout",
          "text": [
            "Результат собственной реализации наивного байесовского классификатора на обучающей выборке:  99.6 %\n"
          ]
        }
      ]
    },
    {
      "cell_type": "code",
      "source": [
        "from sklearn import naive_bayes\n",
        "sklearn_nb = naive_bayes.GaussianNB()\n",
        "sklearn_nb.fit(X_train_f, y_train_f)\n",
        "print('Результат sklearn реализации наивного байесовского классификатора на обучающей выборке: {:.2%}'\n",
        "      .format(sklearn_nb.score(X_train_f, y_train_f)))\n",
        "print('Результат sklearn реализации наивного байесовского классификатора на тестовой выборке: {:.2%}'\n",
        "      .format(sklearn_nb.score(X_test_f, y_test_f)))"
      ],
      "metadata": {
        "colab": {
          "base_uri": "https://localhost:8080/",
          "height": 0
        },
        "id": "hpsKW9MC39jo",
        "outputId": "dc2c3b4c-1f7d-48e2-dbd0-15eff14d0074"
      },
      "execution_count": 106,
      "outputs": [
        {
          "output_type": "stream",
          "name": "stdout",
          "text": [
            "Результат sklearn реализации наивного байесовского классификатора на обучающей выборке: 99.75%\n",
            "Результат sklearn реализации наивного байесовского классификатора на тестовой выборке: 99.60%\n"
          ]
        }
      ]
    }
  ]
}